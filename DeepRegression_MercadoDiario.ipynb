{
 "cells": [
  {
   "cell_type": "markdown",
   "metadata": {},
   "source": [
    "# Deep Learning Forecast\n",
    "\n",
    "##### Created by: Roberto Medina - EDP UNGE - DSO\n",
    "#####  Description\n",
    "The goal of this script is to serve as a tutorial on forecasting energy prices for each hour of the day-ahead Spanish market.\n",
    "\n",
    "##### Data sources: \n",
    "OMIE Mercado Diario historical data, fetched through the EDP-DSO's application TDMI. \n",
    "PRECO_ES, PRECO_PT, and ENERGY is available for each day and hour.  A UiPath bot has been created for this step.\n",
    "\n",
    "##### Model inputs: \n",
    "DATA, HORA, PRECO_PT, PRECO_ES, ENERGY, Wind_ES, and variables engineered from averages and lags of these variables.\n",
    "\n",
    "##### Model outputs: \n",
    "PRECO_ES_1fut, for each hour of the next day."
   ]
  },
  {
   "cell_type": "markdown",
   "metadata": {},
   "source": [
    "# Load Libraries"
   ]
  },
  {
   "cell_type": "code",
   "execution_count": 1,
   "metadata": {},
   "outputs": [
    {
     "name": "stderr",
     "output_type": "stream",
     "text": [
      "Using TensorFlow backend.\n"
     ]
    }
   ],
   "source": [
    "import numpy as np\n",
    "import pandas as pd\n",
    "import matplotlib.pyplot as plt\n",
    "from collections import Iterable\n",
    "import itertools\n",
    "import seaborn as sns\n",
    "from sklearn.utils import indexable\n",
    "from sklearn.preprocessing import StandardScaler\n",
    "import tensorflow as tf\n",
    "import random\n",
    "from keras.models import Sequential\n",
    "from sklearn.utils import shuffle\n",
    "from keras.layers import Dense\n",
    "from sklearn.neural_network import MLPRegressor\n",
    "from sklearn.model_selection import GridSearchCV\n",
    "from sklearn.preprocessing import LabelEncoder\n",
    "from sklearn.preprocessing import RobustScaler\n",
    "from graphviz import *\n",
    "from copy import *\n",
    "import datetime\n",
    "from datetime import date, timedelta, datetime\n",
    "from sklearn.metrics import r2_score, mean_squared_error,  mean_absolute_error, median_absolute_error\n",
    "from sklearn.ensemble import RandomForestRegressor\n",
    "\n",
    "%matplotlib inline \n"
   ]
  },
  {
   "cell_type": "markdown",
   "metadata": {},
   "source": [
    "# Load Data"
   ]
  },
  {
   "cell_type": "code",
   "execution_count": 2,
   "metadata": {},
   "outputs": [
    {
     "name": "stdout",
     "output_type": "stream",
     "text": [
      "WARNING *** file size (2518632) not 512 + multiple of sector size (512)\n",
      "WARNING *** OLE2 inconsistency: SSCS size is 0 but SSAT size is non-zero\n"
     ]
    },
    {
     "data": {
      "text/html": [
       "<div>\n",
       "<style scoped>\n",
       "    .dataframe tbody tr th:only-of-type {\n",
       "        vertical-align: middle;\n",
       "    }\n",
       "\n",
       "    .dataframe tbody tr th {\n",
       "        vertical-align: top;\n",
       "    }\n",
       "\n",
       "    .dataframe thead th {\n",
       "        text-align: right;\n",
       "    }\n",
       "</style>\n",
       "<table border=\"1\" class=\"dataframe\">\n",
       "  <thead>\n",
       "    <tr style=\"text-align: right;\">\n",
       "      <th></th>\n",
       "      <th>DATA</th>\n",
       "      <th>HORA</th>\n",
       "      <th>PRECO_ES</th>\n",
       "      <th>PRECO_PT</th>\n",
       "      <th>ENERGY</th>\n",
       "    </tr>\n",
       "  </thead>\n",
       "  <tbody>\n",
       "    <tr>\n",
       "      <th>28796</th>\n",
       "      <td>2019-01-11</td>\n",
       "      <td>20</td>\n",
       "      <td>70.449997</td>\n",
       "      <td>70.449997</td>\n",
       "      <td>35374.398438</td>\n",
       "    </tr>\n",
       "    <tr>\n",
       "      <th>28797</th>\n",
       "      <td>2019-01-11</td>\n",
       "      <td>21</td>\n",
       "      <td>69.190002</td>\n",
       "      <td>69.190002</td>\n",
       "      <td>34816.250000</td>\n",
       "    </tr>\n",
       "    <tr>\n",
       "      <th>28798</th>\n",
       "      <td>2019-01-11</td>\n",
       "      <td>22</td>\n",
       "      <td>67.120003</td>\n",
       "      <td>67.120003</td>\n",
       "      <td>33928.398438</td>\n",
       "    </tr>\n",
       "    <tr>\n",
       "      <th>28799</th>\n",
       "      <td>2019-01-11</td>\n",
       "      <td>23</td>\n",
       "      <td>66.029999</td>\n",
       "      <td>66.029999</td>\n",
       "      <td>32129.150391</td>\n",
       "    </tr>\n",
       "    <tr>\n",
       "      <th>28800</th>\n",
       "      <td>2019-01-11</td>\n",
       "      <td>24</td>\n",
       "      <td>63.900002</td>\n",
       "      <td>63.900002</td>\n",
       "      <td>29127.599609</td>\n",
       "    </tr>\n",
       "  </tbody>\n",
       "</table>\n",
       "</div>"
      ],
      "text/plain": [
       "            DATA  HORA   PRECO_ES   PRECO_PT        ENERGY\n",
       "28796 2019-01-11    20  70.449997  70.449997  35374.398438\n",
       "28797 2019-01-11    21  69.190002  69.190002  34816.250000\n",
       "28798 2019-01-11    22  67.120003  67.120003  33928.398438\n",
       "28799 2019-01-11    23  66.029999  66.029999  32129.150391\n",
       "28800 2019-01-11    24  63.900002  63.900002  29127.599609"
      ]
     },
     "execution_count": 2,
     "metadata": {},
     "output_type": "execute_result"
    }
   ],
   "source": [
    "df1 = pd.read_excel('C:/Users/E351722/OneDrive - EDP/REN_prediction/MercadoEnergiaDiario.xls',  sheet_name='Report 1', converters={'Unnamed1':str, \n",
    "                                                                                        'Date':str,\n",
    "                                                                                        'Hour':str,\n",
    "                                                                                        'PRECO_ES':str,\n",
    "                                                                                        'PRECO_PT':str,\n",
    "                                                                                        'ENERGY':str,\n",
    "                                                                                        'Unnamed2':str})\n",
    "\n",
    "df1 = df1.drop(['Unnamed: 0'],1)\n",
    "\n",
    "df1.columns = ['DATA', 'HORA','PRECO_ES', 'PRECO_PT', 'ENERGY']\n",
    "\n",
    "df1.DATA =  pd.DatetimeIndex(df1['DATA'])\n",
    "\n",
    "df1.HORA = df1.HORA.astype('int')\n",
    "df1.PRECO_ES = df1.PRECO_ES.astype('float32')\n",
    "df1.PRECO_PT = df1.PRECO_PT.astype('float32')\n",
    "df1.ENERGY = df1.ENERGY.astype('float32')\n",
    "\n",
    "df1.tail()\n"
   ]
  },
  {
   "cell_type": "code",
   "execution_count": 3,
   "metadata": {},
   "outputs": [
    {
     "name": "stdout",
     "output_type": "stream",
     "text": [
      "WARNING *** file size (2518632) not 512 + multiple of sector size (512)\n",
      "WARNING *** OLE2 inconsistency: SSCS size is 0 but SSAT size is non-zero\n"
     ]
    },
    {
     "data": {
      "text/html": [
       "<div>\n",
       "<style scoped>\n",
       "    .dataframe tbody tr th:only-of-type {\n",
       "        vertical-align: middle;\n",
       "    }\n",
       "\n",
       "    .dataframe tbody tr th {\n",
       "        vertical-align: top;\n",
       "    }\n",
       "\n",
       "    .dataframe thead th {\n",
       "        text-align: right;\n",
       "    }\n",
       "</style>\n",
       "<table border=\"1\" class=\"dataframe\">\n",
       "  <thead>\n",
       "    <tr style=\"text-align: right;\">\n",
       "      <th></th>\n",
       "      <th>DATA</th>\n",
       "      <th>HORA</th>\n",
       "      <th>Wind_ES</th>\n",
       "    </tr>\n",
       "  </thead>\n",
       "  <tbody>\n",
       "    <tr>\n",
       "      <th>10844</th>\n",
       "      <td>2019-01-25</td>\n",
       "      <td>21</td>\n",
       "      <td>13030.902344</td>\n",
       "    </tr>\n",
       "    <tr>\n",
       "      <th>10845</th>\n",
       "      <td>2019-01-25</td>\n",
       "      <td>22</td>\n",
       "      <td>12983.712891</td>\n",
       "    </tr>\n",
       "    <tr>\n",
       "      <th>10846</th>\n",
       "      <td>2019-01-25</td>\n",
       "      <td>23</td>\n",
       "      <td>12923.646484</td>\n",
       "    </tr>\n",
       "    <tr>\n",
       "      <th>10847</th>\n",
       "      <td>2019-01-25</td>\n",
       "      <td>24</td>\n",
       "      <td>12844.640625</td>\n",
       "    </tr>\n",
       "    <tr>\n",
       "      <th>10848</th>\n",
       "      <td>2019-01-26</td>\n",
       "      <td>1</td>\n",
       "      <td>12772.067383</td>\n",
       "    </tr>\n",
       "  </tbody>\n",
       "</table>\n",
       "</div>"
      ],
      "text/plain": [
       "            DATA  HORA       Wind_ES\n",
       "10844 2019-01-25    21  13030.902344\n",
       "10845 2019-01-25    22  12983.712891\n",
       "10846 2019-01-25    23  12923.646484\n",
       "10847 2019-01-25    24  12844.640625\n",
       "10848 2019-01-26     1  12772.067383"
      ]
     },
     "execution_count": 3,
     "metadata": {},
     "output_type": "execute_result"
    }
   ],
   "source": [
    "df2 = pd.read_excel('C:/Users/e351722/OneDrive - EDP/REN_prediction/MercadoEnergiaDiario.xls', sheet_name='Report 2', converters={'Unnamed1':str, \n",
    "                                                                                        'Market Date':str,\n",
    "                                                                                        'Market Hour':str,\n",
    "                                                                                        'Energy (MWh)':str,\n",
    "                                                                                        'Unnamed2':str})\n",
    "\n",
    "df2 = df2.drop(['Unnamed: 0'],1)\n",
    "\n",
    "df2.columns = ['DATA', 'HORA', 'Wind_ES']\n",
    "\n",
    "#df4 = df4.drop([ 'Percentil'],1)\n",
    "\n",
    "df2.DATA =  pd.DatetimeIndex(df2['DATA'])\n",
    "df2.HORA = df2.HORA.astype('int')\n",
    "df2.Wind_ES = df2.Wind_ES.astype('float32')\n",
    "\n",
    "#df6['Hydro_1fw']=df.groupby([ 'HORA'])['Hydro'].shift(-1)\n",
    "\n",
    "\n",
    "\n",
    "df2.tail()\n"
   ]
  },
  {
   "cell_type": "code",
   "execution_count": 4,
   "metadata": {},
   "outputs": [
    {
     "name": "stdout",
     "output_type": "stream",
     "text": [
      "WARNING *** file size (9926489) not 512 + multiple of sector size (512)\n",
      "WARNING *** OLE2 inconsistency: SSCS size is 0 but SSAT size is non-zero\n"
     ]
    },
    {
     "data": {
      "text/html": [
       "<div>\n",
       "<style scoped>\n",
       "    .dataframe tbody tr th:only-of-type {\n",
       "        vertical-align: middle;\n",
       "    }\n",
       "\n",
       "    .dataframe tbody tr th {\n",
       "        vertical-align: top;\n",
       "    }\n",
       "\n",
       "    .dataframe thead th {\n",
       "        text-align: right;\n",
       "    }\n",
       "</style>\n",
       "<table border=\"1\" class=\"dataframe\">\n",
       "  <thead>\n",
       "    <tr style=\"text-align: right;\">\n",
       "      <th></th>\n",
       "      <th>DATA</th>\n",
       "      <th>HORA</th>\n",
       "      <th>Meteo_Forecast</th>\n",
       "    </tr>\n",
       "  </thead>\n",
       "  <tbody>\n",
       "    <tr>\n",
       "      <th>10809</th>\n",
       "      <td>2019-01-25</td>\n",
       "      <td>10</td>\n",
       "      <td>7227.310059</td>\n",
       "    </tr>\n",
       "    <tr>\n",
       "      <th>10810</th>\n",
       "      <td>2019-01-25</td>\n",
       "      <td>11</td>\n",
       "      <td>7591.140137</td>\n",
       "    </tr>\n",
       "    <tr>\n",
       "      <th>10811</th>\n",
       "      <td>2019-01-25</td>\n",
       "      <td>12</td>\n",
       "      <td>7729.270020</td>\n",
       "    </tr>\n",
       "    <tr>\n",
       "      <th>10812</th>\n",
       "      <td>2019-01-25</td>\n",
       "      <td>13</td>\n",
       "      <td>7880.857910</td>\n",
       "    </tr>\n",
       "    <tr>\n",
       "      <th>10813</th>\n",
       "      <td>2019-01-25</td>\n",
       "      <td>14</td>\n",
       "      <td>7741.216797</td>\n",
       "    </tr>\n",
       "  </tbody>\n",
       "</table>\n",
       "</div>"
      ],
      "text/plain": [
       "            DATA  HORA  Meteo_Forecast\n",
       "10809 2019-01-25    10     7227.310059\n",
       "10810 2019-01-25    11     7591.140137\n",
       "10811 2019-01-25    12     7729.270020\n",
       "10812 2019-01-25    13     7880.857910\n",
       "10813 2019-01-25    14     7741.216797"
      ]
     },
     "execution_count": 4,
     "metadata": {},
     "output_type": "execute_result"
    }
   ],
   "source": [
    "df3 = pd.read_excel('C:/Users/e351722/OneDrive - EDP/REN_prediction/gen_demand_forecast.xls', sheet_name='Report 2', converters={'Unnamed1':str, \n",
    "                                                                                        'File Date':str,\n",
    "                                                                                        'Market Date':str,\n",
    "                                                                                        'Market Hour':str,\n",
    "                                                                                        'Percentil':str,\n",
    "                                                                                        'Country':str,\n",
    "                                                                                        'Quantity':str,\n",
    "                                                                                        'Unnamed2':str})\n",
    "\n",
    "df3 = df3.drop(['Unnamed: 0'],1)\n",
    "\n",
    "df3.columns = ['File Date', 'Market Date', 'Marker Hour', 'Percentil', 'Country', 'Meteo_Forecast']\n",
    "\n",
    "df3 = df3.drop(['File Date', 'Percentil','Country'],1)\n",
    "df3.columns = [ 'DATA', 'HORA','Meteo_Forecast']\n",
    "\n",
    "df3.DATA =  pd.DatetimeIndex(df3['DATA'])\n",
    "df3.HORA = df3.HORA.astype('int')\n",
    "df3.Meteo_Forecast = df3.Meteo_Forecast.astype('float32')\n",
    "\n",
    "\n",
    "df3.tail()"
   ]
  },
  {
   "cell_type": "code",
   "execution_count": 5,
   "metadata": {},
   "outputs": [
    {
     "name": "stdout",
     "output_type": "stream",
     "text": [
      "WARNING *** file size (9926489) not 512 + multiple of sector size (512)\n",
      "WARNING *** OLE2 inconsistency: SSCS size is 0 but SSAT size is non-zero\n"
     ]
    },
    {
     "data": {
      "text/html": [
       "<div>\n",
       "<style scoped>\n",
       "    .dataframe tbody tr th:only-of-type {\n",
       "        vertical-align: middle;\n",
       "    }\n",
       "\n",
       "    .dataframe tbody tr th {\n",
       "        vertical-align: top;\n",
       "    }\n",
       "\n",
       "    .dataframe thead th {\n",
       "        text-align: right;\n",
       "    }\n",
       "</style>\n",
       "<table border=\"1\" class=\"dataframe\">\n",
       "  <thead>\n",
       "    <tr style=\"text-align: right;\">\n",
       "      <th></th>\n",
       "      <th>DATA</th>\n",
       "      <th>HORA</th>\n",
       "      <th>Price_Forecast_FR</th>\n",
       "    </tr>\n",
       "  </thead>\n",
       "  <tbody>\n",
       "    <tr>\n",
       "      <th>10821</th>\n",
       "      <td>2019-01-24</td>\n",
       "      <td>22</td>\n",
       "      <td>68.300003</td>\n",
       "    </tr>\n",
       "    <tr>\n",
       "      <th>10822</th>\n",
       "      <td>2019-01-24</td>\n",
       "      <td>23</td>\n",
       "      <td>67.099998</td>\n",
       "    </tr>\n",
       "    <tr>\n",
       "      <th>10823</th>\n",
       "      <td>2019-01-24</td>\n",
       "      <td>24</td>\n",
       "      <td>65.500000</td>\n",
       "    </tr>\n",
       "    <tr>\n",
       "      <th>10824</th>\n",
       "      <td>2019-01-25</td>\n",
       "      <td>1</td>\n",
       "      <td>63.000000</td>\n",
       "    </tr>\n",
       "    <tr>\n",
       "      <th>10825</th>\n",
       "      <td>2019-01-25</td>\n",
       "      <td>2</td>\n",
       "      <td>60.900002</td>\n",
       "    </tr>\n",
       "  </tbody>\n",
       "</table>\n",
       "</div>"
      ],
      "text/plain": [
       "            DATA  HORA  Price_Forecast_FR\n",
       "10821 2019-01-24    22          68.300003\n",
       "10822 2019-01-24    23          67.099998\n",
       "10823 2019-01-24    24          65.500000\n",
       "10824 2019-01-25     1          63.000000\n",
       "10825 2019-01-25     2          60.900002"
      ]
     },
     "execution_count": 5,
     "metadata": {},
     "output_type": "execute_result"
    }
   ],
   "source": [
    "df4 = pd.read_excel('C:/Users/e351722/OneDrive - EDP/REN_prediction/gen_demand_forecast.xls', sheet_name='Report 4', converters={'Unnamed1':str, \n",
    "                                                                                        'Market Date':str,\n",
    "                                                                                        'Market Hour':str,\n",
    "                                                                                        'Percentil':str,\n",
    "                                                                                        'Price':str,\n",
    "                                                                                        'Unnamed2':str})\n",
    "\n",
    "df4 = df4.drop(['Unnamed: 0'],1)\n",
    "\n",
    "\n",
    "df4.columns = ['Market Date', 'Marker Hour', 'Percentil', 'Price_Forecast_FR']\n",
    "\n",
    "df4 = df4.drop([ 'Percentil'],1)\n",
    "df4.columns = [ 'DATA', 'HORA','Price_Forecast_FR']\n",
    "\n",
    "df4.DATA =  pd.DatetimeIndex(df4['DATA'])\n",
    "df4.HORA = df4.HORA.astype('int')\n",
    "df4.Price_Forecast_FR = df4.Price_Forecast_FR.astype('float32')\n",
    "\n",
    "\n",
    "df4.tail()"
   ]
  },
  {
   "cell_type": "code",
   "execution_count": 6,
   "metadata": {},
   "outputs": [],
   "source": [
    "# Join Data Frames. Left join on df2 because it has future data that df1 does not.\n",
    "df = pd.merge(df2, df1, how='left', on = ['DATA', 'HORA'])\n",
    "df = pd.merge(df, df3, how='left', on = ['DATA', 'HORA'])\n",
    "df = pd.merge(df, df4, how='left', on = ['DATA', 'HORA'])"
   ]
  },
  {
   "cell_type": "markdown",
   "metadata": {},
   "source": [
    "# Feature Engineering"
   ]
  },
  {
   "cell_type": "code",
   "execution_count": 7,
   "metadata": {},
   "outputs": [],
   "source": [
    "# First let's create day averages for PRECO_PT, PRECO_ES, and ENERGY\n",
    "daydata=df1.groupby(['DATA']).PRECO_PT.mean()\n",
    "daydata.name = 'DAY_MEAN_PT'\n",
    "df_daily = pd.DataFrame(daydata)\n",
    "df1 = pd.merge(df1, df_daily, how='left', on = ['DATA'])\n",
    "\n",
    "daydata2=df1.groupby(['DATA']).PRECO_ES.mean()\n",
    "daydata2.name = 'DAY_MEAN_ES'\n",
    "df_daily2 = pd.DataFrame(daydata2)\n",
    "df1 = pd.merge(df1, df_daily2, how='left', on = ['DATA'])\n",
    "\n",
    "daydata3=df1.groupby(['DATA']).ENERGY.mean()\n",
    "daydata3.name = 'DAY_MEAN_ENERGY'\n",
    "df_daily3 = pd.DataFrame(daydata3)\n",
    "df = pd.merge(df, df_daily3, how='left', on = ['DATA'])"
   ]
  },
  {
   "cell_type": "markdown",
   "metadata": {},
   "source": [
    "### Create lagged variables (and rolling averages) for each value of PRECO_ES (i.e. for each day and hour)"
   ]
  },
  {
   "cell_type": "code",
   "execution_count": 8,
   "metadata": {},
   "outputs": [
    {
     "data": {
      "text/plain": [
       "['DATA',\n",
       " 'HORA',\n",
       " 'Wind_ES',\n",
       " 'PRECO_ES',\n",
       " 'PRECO_PT',\n",
       " 'ENERGY',\n",
       " 'Meteo_Forecast',\n",
       " 'Price_Forecast_FR',\n",
       " 'DAY_MEAN_ENERGY',\n",
       " 'Wind_ES_7',\n",
       " 'PRECO_ES_7',\n",
       " 'PRECO_PT_7',\n",
       " 'ENERGY_7',\n",
       " 'Meteo_Forecast_7',\n",
       " 'Price_Forecast_FR_7',\n",
       " 'DAY_MEAN_ENERGY_7']"
      ]
     },
     "execution_count": 8,
     "metadata": {},
     "output_type": "execute_result"
    }
   ],
   "source": [
    "lag = [7]\n",
    "df_new = deepcopy(df)\n",
    "df_new = df_new.drop(['DATA', 'HORA'], axis=1)\n",
    "\n",
    "for col in df_new.columns:\n",
    "    for l in lag:\n",
    "        df_new.loc[:,str(col)+'_'+str(l)] = df_new[col].shift(l)\n",
    "        ## Rolling averages do not improve the prediction, so I have commented them out (next 2 lines)\n",
    "        #datas=df_new[col].rolling(min_periods=1,window=7).mean()\n",
    "        #df_new.loc[:,str(col)+'_mean_'+str(l)] = datas.reset_index(level=0, drop=True)\n",
    "        \n",
    "df_new = pd.concat([df[['DATA','HORA']], df_new], axis = 1)\n",
    "df = df_new\n",
    "list(df)"
   ]
  },
  {
   "cell_type": "markdown",
   "metadata": {},
   "source": [
    "### Create future lag variable PRECO_ES_1fut.  This is the target variable y we want to predict.\n",
    "### Do this do for any variables for which future values are available such as Meteo_Forecast"
   ]
  },
  {
   "cell_type": "code",
   "execution_count": 9,
   "metadata": {
    "scrolled": true
   },
   "outputs": [],
   "source": [
    "# Eliminate NA's from Target Variable\n",
    "df['PRECO_ES'] = df.PRECO_ES.fillna(0).replace(np.inf, 0)\n",
    "# Create Y(t+1), the variable we want to predict\n",
    "df['PRECO_ES_1fut']=df.groupby([ 'HORA'])['PRECO_ES'].shift(-1)\n",
    "# Create X(t+1), for variables we have future values of\n",
    "df['Wind_ES_1fut']=df.groupby([ 'HORA'])['Wind_ES'].shift(-1)\n",
    "df['Meteo_Forecast_1fut']=df.groupby([ 'HORA'])['Meteo_Forecast'].shift(-1)\n",
    "df['Price_Forecast_FR_1fut']=df.groupby([ 'HORA'])['Price_Forecast_FR'].shift(-1)\n",
    "\n",
    "\n",
    "df_w_labels = deepcopy(df)\n",
    "df_copy = deepcopy(df)\n",
    "df_copy_labels = deepcopy(df)\n",
    "\n",
    "\n",
    "df['date'] = pd.DatetimeIndex(df['DATA'])\n",
    "df['day'] = df['date'].apply(lambda x: x.day)\n",
    "df['dayofweek'] = df['date'].apply(lambda x: x.dayofweek)\n",
    "#df['dayofyear'] = df['date'].apply(lambda x: x.dayofyear)\n",
    "#df['month'] = df['date'].apply(lambda x: x.month)\n",
    "#df['year'] = df['date'].apply(lambda x: x.year)"
   ]
  },
  {
   "cell_type": "markdown",
   "metadata": {},
   "source": [
    "### Visualize correlations in dataframe df\n",
    "\n",
    "#### The last row is our target variable PRECO_ES_1fut, labeled PRECO_ES_D+1 in this plot"
   ]
  },
  {
   "cell_type": "code",
   "execution_count": 10,
   "metadata": {},
   "outputs": [
    {
     "name": "stderr",
     "output_type": "stream",
     "text": [
      "c:\\users\\e351722\\appdata\\local\\continuum\\anaconda3\\envs\\newenv\\lib\\site-packages\\ipykernel_launcher.py:7: SettingWithCopyWarning: \n",
      "A value is trying to be set on a copy of a slice from a DataFrame.\n",
      "Try using .loc[row_indexer,col_indexer] = value instead\n",
      "\n",
      "See the caveats in the documentation: http://pandas.pydata.org/pandas-docs/stable/indexing.html#indexing-view-versus-copy\n",
      "  import sys\n"
     ]
    },
    {
     "data": {
      "image/png": "[encoded data removed]",
      "text/plain": [
       "<Figure size 1656x1656 with 2 Axes>"
      ]
     },
     "metadata": {
      "needs_background": "light"
     },
     "output_type": "display_data"
    }
   ],
   "source": [
    "colormap = plt.cm.RdBu\n",
    "\n",
    "plt.figure(figsize=(23,23))\n",
    "plt.title(u'Cross Correlogram', y=1.05, size=16)\n",
    "\n",
    "df_new = df.dropna()\n",
    "df_new['PRECO_ES_D+1'] = df_new.groupby([ 'HORA'])['PRECO_ES'].shift(-1)\n",
    "mask = np.zeros_like(df_new.corr())\n",
    "mask[np.triu_indices_from(mask)] = True\n",
    "\n",
    "svm = sns.heatmap(df_new.corr(), mask=mask, linewidths=0.1,vmax=1.0, vmin=-1,\n",
    "            square=True, cmap=colormap, linecolor='white', annot=True)"
   ]
  },
  {
   "cell_type": "markdown",
   "metadata": {},
   "source": [
    "### Drop variables with poor correlation to the target variable\n"
   ]
  },
  {
   "cell_type": "code",
   "execution_count": 11,
   "metadata": {},
   "outputs": [
    {
     "data": {
      "text/plain": [
       "['DAY_MEAN_ENERGY', 'ENERGY_7', 'DAY_MEAN_ENERGY_7', 'day']"
      ]
     },
     "execution_count": 11,
     "metadata": {},
     "output_type": "execute_result"
    }
   ],
   "source": [
    "# drop low correlated lag variable\n",
    "#df = df.drop(['PRECO_PT_365'],1)\n",
    "df_new = df.drop(columns=['DATA', 'date'], axis=1) \n",
    "a=np.abs(df_new.corr().PRECO_ES_1fut)<.1\n",
    "dropvariables = df.fillna(df.mean()).corr()[a==True].index[:-1]\n",
    "# list dropped variables\n",
    "list(dropvariables)"
   ]
  },
  {
   "cell_type": "code",
   "execution_count": 12,
   "metadata": {},
   "outputs": [
    {
     "data": {
      "text/plain": [
       "['DATA',\n",
       " 'HORA',\n",
       " 'Wind_ES',\n",
       " 'PRECO_ES',\n",
       " 'PRECO_PT',\n",
       " 'ENERGY',\n",
       " 'Meteo_Forecast',\n",
       " 'Price_Forecast_FR',\n",
       " 'Wind_ES_7',\n",
       " 'PRECO_ES_7',\n",
       " 'PRECO_PT_7',\n",
       " 'Meteo_Forecast_7',\n",
       " 'Price_Forecast_FR_7',\n",
       " 'PRECO_ES_1fut',\n",
       " 'Wind_ES_1fut',\n",
       " 'Meteo_Forecast_1fut',\n",
       " 'Price_Forecast_FR_1fut',\n",
       " 'date',\n",
       " 'dayofweek']"
      ]
     },
     "execution_count": 12,
     "metadata": {},
     "output_type": "execute_result"
    }
   ],
   "source": [
    "df=df.drop(df[dropvariables],axis=1)\n",
    "# list remaining variables\n",
    "list(df)"
   ]
  },
  {
   "cell_type": "markdown",
   "metadata": {},
   "source": [
    "# Set Dates for Training and Testing splits"
   ]
  },
  {
   "cell_type": "code",
   "execution_count": 13,
   "metadata": {},
   "outputs": [],
   "source": [
    "pred_date_END = np.max(df1.DATA)-timedelta(1) # PRECO_ES_1fut is undefined for the last day, so we test on max(date)-1\n",
    "\n",
    "pred_date_START =  pred_date_END  - timedelta(7) # number of days for back-testing prediction, 0 means only the last day is used\n",
    "                                                 # I recommend to use 7 when prototyping, and 0 for production\n",
    "last_train_date = pred_date_START - timedelta(1) # All the data available minus the last day will be used for training\n",
    "\n",
    "first_train_date =   pred_date_END - timedelta(395) # 395 days of historical data used. More days does not improve prediction.\n"
   ]
  },
  {
   "cell_type": "markdown",
   "metadata": {},
   "source": [
    "## Split training,  testing, and prediction data \n"
   ]
  },
  {
   "cell_type": "code",
   "execution_count": 14,
   "metadata": {},
   "outputs": [
    {
     "data": {
      "text/html": [
       "<div>\n",
       "<style scoped>\n",
       "    .dataframe tbody tr th:only-of-type {\n",
       "        vertical-align: middle;\n",
       "    }\n",
       "\n",
       "    .dataframe tbody tr th {\n",
       "        vertical-align: top;\n",
       "    }\n",
       "\n",
       "    .dataframe thead th {\n",
       "        text-align: right;\n",
       "    }\n",
       "</style>\n",
       "<table border=\"1\" class=\"dataframe\">\n",
       "  <thead>\n",
       "    <tr style=\"text-align: right;\">\n",
       "      <th></th>\n",
       "      <th>HORA</th>\n",
       "      <th>Wind_ES</th>\n",
       "      <th>PRECO_ES</th>\n",
       "      <th>PRECO_PT</th>\n",
       "      <th>ENERGY</th>\n",
       "      <th>Meteo_Forecast</th>\n",
       "      <th>Price_Forecast_FR</th>\n",
       "      <th>Wind_ES_7</th>\n",
       "      <th>PRECO_ES_7</th>\n",
       "      <th>PRECO_PT_7</th>\n",
       "      <th>Meteo_Forecast_7</th>\n",
       "      <th>Price_Forecast_FR_7</th>\n",
       "      <th>Wind_ES_1fut</th>\n",
       "      <th>Meteo_Forecast_1fut</th>\n",
       "      <th>Price_Forecast_FR_1fut</th>\n",
       "      <th>dayofweek</th>\n",
       "    </tr>\n",
       "  </thead>\n",
       "  <tbody>\n",
       "    <tr>\n",
       "      <th>984</th>\n",
       "      <td>1</td>\n",
       "      <td>17184.091797</td>\n",
       "      <td>34.439999</td>\n",
       "      <td>34.439999</td>\n",
       "      <td>27207.400391</td>\n",
       "      <td>5465.541016</td>\n",
       "      <td>55.299999</td>\n",
       "      <td>16324.534180</td>\n",
       "      <td>50.619999</td>\n",
       "      <td>50.619999</td>\n",
       "      <td>5355.944824</td>\n",
       "      <td>50.599998</td>\n",
       "      <td>9023.347656</td>\n",
       "      <td>6072.482910</td>\n",
       "      <td>59.000000</td>\n",
       "      <td>0</td>\n",
       "    </tr>\n",
       "    <tr>\n",
       "      <th>985</th>\n",
       "      <td>2</td>\n",
       "      <td>17095.533203</td>\n",
       "      <td>15.000000</td>\n",
       "      <td>34.540001</td>\n",
       "      <td>26511.199219</td>\n",
       "      <td>4985.803223</td>\n",
       "      <td>52.099998</td>\n",
       "      <td>16552.847656</td>\n",
       "      <td>56.790001</td>\n",
       "      <td>56.790001</td>\n",
       "      <td>5947.109863</td>\n",
       "      <td>56.799999</td>\n",
       "      <td>8780.034180</td>\n",
       "      <td>5457.792969</td>\n",
       "      <td>59.799999</td>\n",
       "      <td>0</td>\n",
       "    </tr>\n",
       "    <tr>\n",
       "      <th>986</th>\n",
       "      <td>3</td>\n",
       "      <td>16682.490234</td>\n",
       "      <td>10.470000</td>\n",
       "      <td>34.439999</td>\n",
       "      <td>25897.400391</td>\n",
       "      <td>4641.795898</td>\n",
       "      <td>50.799999</td>\n",
       "      <td>16738.609375</td>\n",
       "      <td>62.040001</td>\n",
       "      <td>62.040001</td>\n",
       "      <td>6357.893066</td>\n",
       "      <td>62.000000</td>\n",
       "      <td>8442.606445</td>\n",
       "      <td>5121.693848</td>\n",
       "      <td>58.099998</td>\n",
       "      <td>0</td>\n",
       "    </tr>\n",
       "    <tr>\n",
       "      <th>987</th>\n",
       "      <td>4</td>\n",
       "      <td>16338.670898</td>\n",
       "      <td>5.480000</td>\n",
       "      <td>34.540001</td>\n",
       "      <td>25411.900391</td>\n",
       "      <td>4499.501953</td>\n",
       "      <td>46.299999</td>\n",
       "      <td>16859.707031</td>\n",
       "      <td>63.599998</td>\n",
       "      <td>63.599998</td>\n",
       "      <td>6516.461914</td>\n",
       "      <td>63.599998</td>\n",
       "      <td>8093.694824</td>\n",
       "      <td>4909.720215</td>\n",
       "      <td>51.700001</td>\n",
       "      <td>0</td>\n",
       "    </tr>\n",
       "    <tr>\n",
       "      <th>988</th>\n",
       "      <td>5</td>\n",
       "      <td>16318.781250</td>\n",
       "      <td>5.480000</td>\n",
       "      <td>34.540001</td>\n",
       "      <td>25431.900391</td>\n",
       "      <td>4467.919922</td>\n",
       "      <td>48.000000</td>\n",
       "      <td>16864.164062</td>\n",
       "      <td>64.089996</td>\n",
       "      <td>64.089996</td>\n",
       "      <td>6460.394043</td>\n",
       "      <td>64.099998</td>\n",
       "      <td>8171.030762</td>\n",
       "      <td>4829.059082</td>\n",
       "      <td>51.200001</td>\n",
       "      <td>0</td>\n",
       "    </tr>\n",
       "  </tbody>\n",
       "</table>\n",
       "</div>"
      ],
      "text/plain": [
       "     HORA       Wind_ES   PRECO_ES   PRECO_PT        ENERGY  Meteo_Forecast  \\\n",
       "984     1  17184.091797  34.439999  34.439999  27207.400391     5465.541016   \n",
       "985     2  17095.533203  15.000000  34.540001  26511.199219     4985.803223   \n",
       "986     3  16682.490234  10.470000  34.439999  25897.400391     4641.795898   \n",
       "987     4  16338.670898   5.480000  34.540001  25411.900391     4499.501953   \n",
       "988     5  16318.781250   5.480000  34.540001  25431.900391     4467.919922   \n",
       "\n",
       "     Price_Forecast_FR     Wind_ES_7  PRECO_ES_7  PRECO_PT_7  \\\n",
       "984          55.299999  16324.534180   50.619999   50.619999   \n",
       "985          52.099998  16552.847656   56.790001   56.790001   \n",
       "986          50.799999  16738.609375   62.040001   62.040001   \n",
       "987          46.299999  16859.707031   63.599998   63.599998   \n",
       "988          48.000000  16864.164062   64.089996   64.089996   \n",
       "\n",
       "     Meteo_Forecast_7  Price_Forecast_FR_7  Wind_ES_1fut  Meteo_Forecast_1fut  \\\n",
       "984       5355.944824            50.599998   9023.347656          6072.482910   \n",
       "985       5947.109863            56.799999   8780.034180          5457.792969   \n",
       "986       6357.893066            62.000000   8442.606445          5121.693848   \n",
       "987       6516.461914            63.599998   8093.694824          4909.720215   \n",
       "988       6460.394043            64.099998   8171.030762          4829.059082   \n",
       "\n",
       "     Price_Forecast_FR_1fut  dayofweek  \n",
       "984               59.000000          0  \n",
       "985               59.799999          0  \n",
       "986               58.099998          0  \n",
       "987               51.700001          0  \n",
       "988               51.200001          0  "
      ]
     },
     "execution_count": 14,
     "metadata": {},
     "output_type": "execute_result"
    }
   ],
   "source": [
    "train = df[(df.date >= first_train_date) & (df.date <= last_train_date)].drop(['DATA'],1)\n",
    "\n",
    "train = train.fillna(method='ffill')\n",
    "train = train.fillna(train.mean())\n",
    "\n",
    "df_test = df\n",
    "df_test = df_test.fillna(method='ffill')\n",
    "df_test = df_test.fillna(df_test.mean())\n",
    "\n",
    "test = df_test[(df_test.date >= pred_date_START) & (df_test.date <= pred_date_END)].drop(['DATA'],1)\n",
    "\n",
    "prediction_set =  df_test[(df_test.date >= pred_date_END+timedelta(1)) & (df_test.date <= pred_date_END+timedelta(1))].drop(['DATA'],1)\n",
    "\n",
    "X_test, y_test = [test.drop(['date', 'PRECO_ES_1fut'],1), test['PRECO_ES_1fut']]\n",
    "X_pred = prediction_set.drop(['date', 'PRECO_ES_1fut'],1)\n",
    "\n",
    "X_train, y_train = [train.drop(['date', 'PRECO_ES_1fut'],1), train['PRECO_ES_1fut']]\n",
    "X_train.head()"
   ]
  },
  {
   "cell_type": "markdown",
   "metadata": {},
   "source": [
    "# Apply PCA to Data and Split Training, Testing, and Forecasting (pred) sets"
   ]
  },
  {
   "cell_type": "code",
   "execution_count": 15,
   "metadata": {},
   "outputs": [
    {
     "name": "stdout",
     "output_type": "stream",
     "text": [
      "[0.53668779 0.30933868 0.10600392]\n"
     ]
    },
    {
     "data": {
      "text/html": [
       "<div>\n",
       "<style scoped>\n",
       "    .dataframe tbody tr th:only-of-type {\n",
       "        vertical-align: middle;\n",
       "    }\n",
       "\n",
       "    .dataframe tbody tr th {\n",
       "        vertical-align: top;\n",
       "    }\n",
       "\n",
       "    .dataframe thead th {\n",
       "        text-align: right;\n",
       "    }\n",
       "</style>\n",
       "<table border=\"1\" class=\"dataframe\">\n",
       "  <thead>\n",
       "    <tr style=\"text-align: right;\">\n",
       "      <th></th>\n",
       "      <th>HORA</th>\n",
       "      <th>Wind_ES</th>\n",
       "      <th>PRECO_ES</th>\n",
       "      <th>PRECO_PT</th>\n",
       "      <th>ENERGY</th>\n",
       "      <th>Meteo_Forecast</th>\n",
       "      <th>Price_Forecast_FR</th>\n",
       "      <th>Wind_ES_7</th>\n",
       "      <th>PRECO_ES_7</th>\n",
       "      <th>PRECO_PT_7</th>\n",
       "      <th>Meteo_Forecast_7</th>\n",
       "      <th>Price_Forecast_FR_7</th>\n",
       "      <th>Wind_ES_1fut</th>\n",
       "      <th>Meteo_Forecast_1fut</th>\n",
       "      <th>Price_Forecast_FR_1fut</th>\n",
       "      <th>dayofweek</th>\n",
       "      <th>0</th>\n",
       "      <th>1</th>\n",
       "      <th>2</th>\n",
       "    </tr>\n",
       "  </thead>\n",
       "  <tbody>\n",
       "    <tr>\n",
       "      <th>0</th>\n",
       "      <td>1</td>\n",
       "      <td>7478.091797</td>\n",
       "      <td>62.009998</td>\n",
       "      <td>62.009998</td>\n",
       "      <td>24361.900391</td>\n",
       "      <td>6036.608887</td>\n",
       "      <td>55.500000</td>\n",
       "      <td>8595.168945</td>\n",
       "      <td>67.099998</td>\n",
       "      <td>67.099998</td>\n",
       "      <td>6456.541992</td>\n",
       "      <td>67.099998</td>\n",
       "      <td>5007.390137</td>\n",
       "      <td>6467.713867</td>\n",
       "      <td>58.400002</td>\n",
       "      <td>3</td>\n",
       "      <td>-300.324783</td>\n",
       "      <td>1600.595558</td>\n",
       "      <td>-2453.645234</td>\n",
       "    </tr>\n",
       "    <tr>\n",
       "      <th>1</th>\n",
       "      <td>2</td>\n",
       "      <td>7296.080078</td>\n",
       "      <td>54.849998</td>\n",
       "      <td>54.849998</td>\n",
       "      <td>21994.000000</td>\n",
       "      <td>5599.409180</td>\n",
       "      <td>54.400002</td>\n",
       "      <td>8519.558594</td>\n",
       "      <td>69.300003</td>\n",
       "      <td>69.300003</td>\n",
       "      <td>7032.715820</td>\n",
       "      <td>69.300003</td>\n",
       "      <td>4978.553223</td>\n",
       "      <td>5643.522949</td>\n",
       "      <td>53.799999</td>\n",
       "      <td>3</td>\n",
       "      <td>-1465.090655</td>\n",
       "      <td>3835.738494</td>\n",
       "      <td>-2358.758325</td>\n",
       "    </tr>\n",
       "    <tr>\n",
       "      <th>2</th>\n",
       "      <td>3</td>\n",
       "      <td>7060.884766</td>\n",
       "      <td>52.189999</td>\n",
       "      <td>52.189999</td>\n",
       "      <td>20978.500000</td>\n",
       "      <td>5213.189941</td>\n",
       "      <td>53.299999</td>\n",
       "      <td>8306.128906</td>\n",
       "      <td>69.250000</td>\n",
       "      <td>69.250000</td>\n",
       "      <td>7535.136230</td>\n",
       "      <td>69.300003</td>\n",
       "      <td>5009.059082</td>\n",
       "      <td>5286.554199</td>\n",
       "      <td>51.799999</td>\n",
       "      <td>3</td>\n",
       "      <td>-2135.668659</td>\n",
       "      <td>4760.659066</td>\n",
       "      <td>-2151.918262</td>\n",
       "    </tr>\n",
       "    <tr>\n",
       "      <th>3</th>\n",
       "      <td>4</td>\n",
       "      <td>6915.891113</td>\n",
       "      <td>50.209999</td>\n",
       "      <td>50.209999</td>\n",
       "      <td>20410.699219</td>\n",
       "      <td>5031.318848</td>\n",
       "      <td>52.299999</td>\n",
       "      <td>8044.992188</td>\n",
       "      <td>68.070000</td>\n",
       "      <td>68.070000</td>\n",
       "      <td>7670.463867</td>\n",
       "      <td>63.400002</td>\n",
       "      <td>5043.296875</td>\n",
       "      <td>5077.068848</td>\n",
       "      <td>50.599998</td>\n",
       "      <td>3</td>\n",
       "      <td>-2588.921498</td>\n",
       "      <td>5231.115086</td>\n",
       "      <td>-1953.023567</td>\n",
       "    </tr>\n",
       "    <tr>\n",
       "      <th>4</th>\n",
       "      <td>5</td>\n",
       "      <td>6768.287109</td>\n",
       "      <td>50.200001</td>\n",
       "      <td>50.200001</td>\n",
       "      <td>20144.699219</td>\n",
       "      <td>4973.365234</td>\n",
       "      <td>52.700001</td>\n",
       "      <td>7845.486816</td>\n",
       "      <td>68.010002</td>\n",
       "      <td>68.010002</td>\n",
       "      <td>7548.806152</td>\n",
       "      <td>55.599998</td>\n",
       "      <td>4958.833984</td>\n",
       "      <td>5002.057129</td>\n",
       "      <td>50.400002</td>\n",
       "      <td>3</td>\n",
       "      <td>-2938.318399</td>\n",
       "      <td>5378.262026</td>\n",
       "      <td>-1893.357163</td>\n",
       "    </tr>\n",
       "  </tbody>\n",
       "</table>\n",
       "</div>"
      ],
      "text/plain": [
       "   HORA      Wind_ES   PRECO_ES   PRECO_PT        ENERGY  Meteo_Forecast  \\\n",
       "0     1  7478.091797  62.009998  62.009998  24361.900391     6036.608887   \n",
       "1     2  7296.080078  54.849998  54.849998  21994.000000     5599.409180   \n",
       "2     3  7060.884766  52.189999  52.189999  20978.500000     5213.189941   \n",
       "3     4  6915.891113  50.209999  50.209999  20410.699219     5031.318848   \n",
       "4     5  6768.287109  50.200001  50.200001  20144.699219     4973.365234   \n",
       "\n",
       "   Price_Forecast_FR    Wind_ES_7  PRECO_ES_7  PRECO_PT_7  Meteo_Forecast_7  \\\n",
       "0          55.500000  8595.168945   67.099998   67.099998       6456.541992   \n",
       "1          54.400002  8519.558594   69.300003   69.300003       7032.715820   \n",
       "2          53.299999  8306.128906   69.250000   69.250000       7535.136230   \n",
       "3          52.299999  8044.992188   68.070000   68.070000       7670.463867   \n",
       "4          52.700001  7845.486816   68.010002   68.010002       7548.806152   \n",
       "\n",
       "   Price_Forecast_FR_7  Wind_ES_1fut  Meteo_Forecast_1fut  \\\n",
       "0            67.099998   5007.390137          6467.713867   \n",
       "1            69.300003   4978.553223          5643.522949   \n",
       "2            69.300003   5009.059082          5286.554199   \n",
       "3            63.400002   5043.296875          5077.068848   \n",
       "4            55.599998   4958.833984          5002.057129   \n",
       "\n",
       "   Price_Forecast_FR_1fut  dayofweek            0            1            2  \n",
       "0               58.400002          3  -300.324783  1600.595558 -2453.645234  \n",
       "1               53.799999          3 -1465.090655  3835.738494 -2358.758325  \n",
       "2               51.799999          3 -2135.668659  4760.659066 -2151.918262  \n",
       "3               50.599998          3 -2588.921498  5231.115086 -1953.023567  \n",
       "4               50.400002          3 -2938.318399  5378.262026 -1893.357163  "
      ]
     },
     "execution_count": 15,
     "metadata": {},
     "output_type": "execute_result"
    }
   ],
   "source": [
    "#first_train_date = last_train_date - timedelta(90)\n",
    "\n",
    "train = df[(df.date >= first_train_date) & (df.date <= last_train_date)].drop(['DATA'],1)\n",
    "\n",
    "train = train.fillna(method='ffill')\n",
    "train = train.fillna(train.mean())\n",
    "train = train.fillna(0)\n",
    "\n",
    "from sklearn.decomposition import PCA\n",
    "pca = PCA(0.95)  # keep components that explain 95% of the variance\n",
    "datas = train.drop(['date','PRECO_ES_1fut'],1)\n",
    "data_pca = pca.fit(datas)\n",
    "PCA(copy=True, iterated_power='auto', n_components=10, random_state=None,\n",
    "  svd_solver='auto', tol=0.0, whiten=False)\n",
    "print(pca.explained_variance_ratio_)  \n",
    "#train = train.reset_index(drop=True)\n",
    "#list(train)\n",
    "\n",
    "df_test = df\n",
    "df_test = df_test.fillna(method='ffill')\n",
    "df_test = df_test.fillna(df_test.mean())\n",
    "df_test = df_test.fillna(0)\n",
    "\n",
    "test = df_test[(df_test.date >= pred_date_START) & (df_test.date <= pred_date_END)].drop(['DATA'],1)\n",
    "\n",
    "test_pca = data_pca.transform(test.drop(['date','PRECO_ES_1fut'],1))\n",
    "\n",
    "prediction_set =  df_test[(df_test.date >= pred_date_END+timedelta(1)) & (df_test.date <= pred_date_END+timedelta(1))].drop(['DATA'],1)\n",
    "\n",
    "prediction_pca = data_pca.transform(prediction_set.drop(['date', 'PRECO_ES_1fut'],1))\n",
    "\n",
    "train_pca = data_pca.transform(train.drop(['date','PRECO_ES_1fut'],1))\n",
    "\n",
    "\n",
    "train = pd.concat([train.reset_index(), pd.DataFrame(train_pca)], axis=1)\n",
    "test = pd.concat([test.reset_index(), pd.DataFrame(test_pca)], axis=1)\n",
    "prediction_set = pd.concat([prediction_set.reset_index(), pd.DataFrame(prediction_pca)], axis=1)\n",
    "\n",
    "\n",
    "train = train.reset_index(drop=True)\n",
    "test = test.reset_index(drop=True)\n",
    "prediction_set=prediction_set.reset_index(drop=True)\n",
    "\n",
    "train = train.drop(['index'],1)\n",
    "test = test.drop(['index'],1)\n",
    "prediction_set=prediction_set.drop(['index'],1)\n",
    "\n",
    "X_test, y_test = [test.drop(['date', 'PRECO_ES_1fut'],1), test['PRECO_ES_1fut']]\n",
    "X_pred = prediction_set.drop(['date', 'PRECO_ES_1fut'],1)\n",
    "\n",
    "X_train, y_train = [train.drop(['date', 'PRECO_ES_1fut'],1), train['PRECO_ES_1fut']]\n",
    "\n",
    "X_test.head()"
   ]
  },
  {
   "cell_type": "markdown",
   "metadata": {},
   "source": [
    "# Normalze variables, Final Preprocessing Step, needed for Neural Networks"
   ]
  },
  {
   "cell_type": "code",
   "execution_count": 16,
   "metadata": {},
   "outputs": [
    {
     "name": "stderr",
     "output_type": "stream",
     "text": [
      "c:\\users\\e351722\\appdata\\local\\continuum\\anaconda3\\envs\\newenv\\lib\\site-packages\\sklearn\\preprocessing\\data.py:617: DataConversionWarning: Data with input dtype float32, int32, int64, float64 were all converted to float64 by StandardScaler.\n",
      "  return self.partial_fit(X, y)\n",
      "c:\\users\\e351722\\appdata\\local\\continuum\\anaconda3\\envs\\newenv\\lib\\site-packages\\ipykernel_launcher.py:15: DataConversionWarning: Data with input dtype float32, int32, int64, float64 were all converted to float64 by StandardScaler.\n",
      "  from ipykernel import kernelapp as app\n",
      "c:\\users\\e351722\\appdata\\local\\continuum\\anaconda3\\envs\\newenv\\lib\\site-packages\\ipykernel_launcher.py:21: DataConversionWarning: Data with input dtype float32, int32, int64, float64 were all converted to float64 by StandardScaler.\n",
      "c:\\users\\e351722\\appdata\\local\\continuum\\anaconda3\\envs\\newenv\\lib\\site-packages\\ipykernel_launcher.py:26: DataConversionWarning: Data with input dtype float32, int32, int64, float64 were all converted to float64 by StandardScaler.\n"
     ]
    }
   ],
   "source": [
    "# we create sets x_train_c, x_test_c, and x_pred_c by copying X_train and X_test and then normalizing the copies.\n",
    "\n",
    "x_train_c= deepcopy(X_train)\n",
    "x_test_c = deepcopy(X_test)\n",
    "x_pred_c = deepcopy(X_pred)\n",
    "\n",
    "from sklearn import preprocessing\n",
    "\n",
    "# Normalize Training Data \n",
    "train_norm = x_train_c[x_train_c.columns[:]]\n",
    "test_norm = x_test_c[x_test_c.columns[:]]\n",
    "pred_norm = x_pred_c[x_pred_c.columns[:]]\n",
    "\n",
    "std_scale = preprocessing.StandardScaler().fit(train_norm)\n",
    "x_train_norm = std_scale.transform(train_norm)\n",
    "#Converting numpy array to dataframe\n",
    "training_norm_col = pd.DataFrame(x_train_norm, index=train_norm.index, columns=train_norm.columns) \n",
    "x_train_c.update(training_norm_col)\n",
    "\n",
    "# Normalize Testing Data by using mean and SD of training set\n",
    "x_test_norm = std_scale.transform(test_norm)\n",
    "testing_norm_col = pd.DataFrame(x_test_norm, index=test_norm.index, columns=test_norm.columns) \n",
    "x_test_c.update(testing_norm_col)\n",
    "\n",
    "# Normalize Prediction Data by using mean and SD of training set\n",
    "x_pred_norm = std_scale.transform(pred_norm)\n",
    "pred_norm_col = pd.DataFrame(x_pred_norm, index=pred_norm.index, columns=pred_norm.columns) \n",
    "x_pred_c.update(pred_norm_col)"
   ]
  },
  {
   "cell_type": "markdown",
   "metadata": {},
   "source": [
    "# Build Random Forest Regression Model"
   ]
  },
  {
   "cell_type": "code",
   "execution_count": 17,
   "metadata": {},
   "outputs": [],
   "source": [
    "def mean_absolute_percentage_error(y_true, y_pred): \n",
    "    y_true, y_pred = np.array(y_true), np.array(y_pred)\n",
    "    return np.mean(np.abs((y_true - y_pred) / y_true)) * 100\n",
    "\n",
    "\n",
    "def prediction_rfregression(x_train, y_train, x_test, y_test):\n",
    "    \"\"\"\n",
    "    Machine learning implementation - RandomForestRegressor algorithm.\n",
    "\n",
    "    :param x_train: Predictors train.\n",
    "    :param y_train: Response variable train.\n",
    "    :param x_test: Predictors test.\n",
    "    :param y_test: Response variable test.\n",
    "    :return: The RandomForest Regression model.\n",
    "    \"\"\"\n",
    "\n",
    "    cv_splits = 5\n",
    "    clf = RandomForestRegressor()\n",
    "    \n",
    "    # Defining the grid search    \n",
    "    param_grid = {'max_depth': [9]\n",
    "                  }\n",
    "    \n",
    "    print('Model training')\n",
    "\n",
    "    tree_grid = GridSearchCV(estimator=clf, param_grid=param_grid,\n",
    "                             iid=False, refit=True, cv=cv_splits, verbose=5, n_jobs = -1) #, scoring='neg_mean_squared_error'\n",
    "    tree = tree_grid.fit(x_train, y_train)\n",
    "    \n",
    "    print(tree.best_params_)\n",
    "    tree_predict = tree.predict(x_test)\n",
    "    features = tree.estimator.fit(x_train, y_train).feature_importances_\n",
    "    feature_imp_df = pd.DataFrame({'Importance': features},\n",
    "                                  index=x_test.columns.ravel()).sort_values('Importance', ascending=False)\n",
    "\n",
    "    print(feature_imp_df)\n",
    "    print('\\n', 'r2_score:', r2_score(y_test, tree_predict), '\\n',\n",
    "          'mean_absolute_percentage_error', mean_absolute_percentage_error(y_test, tree_predict), '\\n')\n",
    "    MAP_error = mean_absolute_percentage_error(y_test, tree_predict)\n",
    "    \n",
    "    print('\\n')\n",
    "    \n",
    "    d_price = x_test['PRECO_ES']\n",
    "\n",
    "    print('\\n',\n",
    "          'mean_absolute_percentage_error d', mean_absolute_percentage_error(y_test, d_price), '\\n')\n",
    "\n",
    "    print('\\n')\n",
    "    metric_model_plot(y_test, tree_predict)\n",
    "    print('\\n')\n",
    "    model_plot(x_test, y_test, tree_predict)\n",
    "    print('\\n')\n",
    "   \n",
    "    return tree_predict, y_test, tree, MAP_error\n",
    "\n",
    "\n",
    "def model_plot(x, y, tree_predict):\n",
    "\n",
    "    plt.figure()\n",
    "    plt.scatter( y, x['PRECO_ES'], c=\"cornflowerblue\", label=\"Naive\")\n",
    "    plt.scatter( y, tree_predict, color=\"darkorange\", label=\"RandomForest\", linewidth=2)\n",
    "    plt.xlabel(\"Actual D+1 Price\")\n",
    "    plt.ylabel(\"Predicted D+1 Price\")\n",
    "    plt.title(\"Decision Tree Regression\")\n",
    "    plt.legend()\n",
    "    plt.show()\n",
    "    return None\n",
    "\n",
    "\n",
    "def metric_model_plot(y_test, tree_predict):\n",
    "    max_x = max(y_test)\n",
    "    min_x = min(y_test)\n",
    "    max_y = max(tree_predict)\n",
    "    min_y = min(tree_predict)\n",
    "    plt.figure()\n",
    "    plt.scatter(y_test, tree_predict, c=\"darkorange\", label=\"test data\")\n",
    "    plt.xlim(min_x, max_x)\n",
    "    plt.ylim(min_y, max_y)\n",
    "    plt.plot([min_x, max_x], [min_x, max_x], 'k--')\n",
    "\n",
    "    plt.xlabel(\"Actual D+1 Price\")\n",
    "    plt.ylabel(\"Predicted D+1 Price\")\n",
    "    plt.title(\"Decision Tree\")\n",
    "    plt.legend()\n",
    "    #plt.savefig('fig.png')  # save the figure to file\n",
    "    plt.show()\n",
    "    return None\n"
   ]
  },
  {
   "cell_type": "markdown",
   "metadata": {},
   "source": [
    "# Train and Run RF Model"
   ]
  },
  {
   "cell_type": "code",
   "execution_count": 18,
   "metadata": {},
   "outputs": [
    {
     "name": "stderr",
     "output_type": "stream",
     "text": [
      "[Parallel(n_jobs=-1)]: Using backend LokyBackend with 4 concurrent workers.\n"
     ]
    },
    {
     "name": "stdout",
     "output_type": "stream",
     "text": [
      "Model training\n",
      "Fitting 5 folds for each of 1 candidates, totalling 5 fits\n"
     ]
    },
    {
     "name": "stderr",
     "output_type": "stream",
     "text": [
      "[Parallel(n_jobs=-1)]: Done   2 out of   5 | elapsed:    3.9s remaining:    5.9s\n",
      "[Parallel(n_jobs=-1)]: Done   5 out of   5 | elapsed:    4.8s finished\n",
      "c:\\users\\e351722\\appdata\\local\\continuum\\anaconda3\\envs\\newenv\\lib\\site-packages\\sklearn\\ensemble\\forest.py:248: FutureWarning: The default value of n_estimators will change from 10 in version 0.20 to 100 in 0.22.\n",
      "  \"10 in version 0.20 to 100 in 0.22.\", FutureWarning)\n"
     ]
    },
    {
     "name": "stdout",
     "output_type": "stream",
     "text": [
      "{'max_depth': 9}\n"
     ]
    },
    {
     "name": "stderr",
     "output_type": "stream",
     "text": [
      "c:\\users\\e351722\\appdata\\local\\continuum\\anaconda3\\envs\\newenv\\lib\\site-packages\\sklearn\\ensemble\\forest.py:248: FutureWarning: The default value of n_estimators will change from 10 in version 0.20 to 100 in 0.22.\n",
      "  \"10 in version 0.20 to 100 in 0.22.\", FutureWarning)\n"
     ]
    },
    {
     "name": "stdout",
     "output_type": "stream",
     "text": [
      "                        Importance\n",
      "PRECO_PT                  0.516276\n",
      "Price_Forecast_FR_1fut    0.113913\n",
      "PRECO_ES                  0.104031\n",
      "Wind_ES_1fut              0.098191\n",
      "2                         0.046871\n",
      "Meteo_Forecast_1fut       0.030565\n",
      "dayofweek                 0.010114\n",
      "1                         0.009059\n",
      "Meteo_Forecast_7          0.008724\n",
      "Price_Forecast_FR         0.008677\n",
      "Wind_ES                   0.008029\n",
      "Meteo_Forecast            0.006915\n",
      "0                         0.006867\n",
      "Price_Forecast_FR_7       0.006161\n",
      "HORA                      0.005830\n",
      "Wind_ES_7                 0.005383\n",
      "PRECO_PT_7                0.005363\n",
      "PRECO_ES_7                0.004660\n",
      "ENERGY                    0.004371\n",
      "\n",
      " r2_score: 0.8665616745398605 \n",
      " mean_absolute_percentage_error 2.9790339506560186 \n",
      "\n",
      "\n",
      "\n",
      "\n",
      " mean_absolute_percentage_error d 5.6777942925691605 \n",
      "\n",
      "\n",
      "\n"
     ]
    },
    {
     "data": {
      "image/png": "[encoded data removed]",
      "text/plain": [
       "<Figure size 432x288 with 1 Axes>"
      ]
     },
     "metadata": {
      "needs_background": "light"
     },
     "output_type": "display_data"
    },
    {
     "name": "stdout",
     "output_type": "stream",
     "text": [
      "\n",
      "\n"
     ]
    },
    {
     "data": {
      "image/png": "[encoded data removed]",
      "text/plain": [
       "<Figure size 432x288 with 1 Axes>"
      ]
     },
     "metadata": {
      "needs_background": "light"
     },
     "output_type": "display_data"
    },
    {
     "name": "stdout",
     "output_type": "stream",
     "text": [
      "\n",
      "\n"
     ]
    }
   ],
   "source": [
    "from sklearn.metrics import r2_score, mean_squared_error,  mean_absolute_error, median_absolute_error\n",
    "import matplotlib.pyplot as plt\n",
    "test_predicted_rf, y_test, tree, MAP_error_rf = prediction_rfregression(X_train, y_train, X_test, y_test)"
   ]
  },
  {
   "cell_type": "markdown",
   "metadata": {},
   "source": [
    "# RandomForest Forecast"
   ]
  },
  {
   "cell_type": "code",
   "execution_count": 19,
   "metadata": {},
   "outputs": [],
   "source": [
    "rf_prediction = list(tree.predict(X_pred))"
   ]
  },
  {
   "cell_type": "markdown",
   "metadata": {},
   "source": [
    "# Build Deep Neural Network Regression "
   ]
  },
  {
   "cell_type": "code",
   "execution_count": 20,
   "metadata": {},
   "outputs": [],
   "source": [
    "def dnn_prediction(list_var):\n",
    "    \"\"\"\n",
    "    SKLearn MLPRegressor algorithm.\n",
    "\n",
    "    :param list_var: List with the test and train components.\n",
    "    :return: The Deep Neural Network model.\n",
    "    \"\"\"\n",
    "    # Unpacking the variables\n",
    "    x_train_c, y_train, x_test_c, y_test = list_var\n",
    "\n",
    "    # Computing Number of Neurons in Hidden Layers\n",
    "    #\n",
    "    # One issue within this subject on which there is a consensus is the \n",
    "    # performance difference from adding additional hidden layers: the situations\n",
    "    # in which performance improves with a second (or third, etc.) hidden layer are very few.\n",
    "    #\n",
    "    # One hidden layer is sufficient for the large majority of problems.\n",
    "    # 0 - Only capable of representing linear separable functions or decisions.\n",
    "    # 1 - Can approximate any function that contains a continuous mapping\n",
    "    # from one finite space to another.\n",
    "    # 2 - Can represent an arbitrary decision boundary to arbitrary accuracy\n",
    "    # with rational activation functions and can approximate any smooth\n",
    "    # mapping to any accuracy.    \n",
    "    #\n",
    "    # One hidden layer is sufficient for the large majority of problems.   \n",
    "    \n",
    "    cv_splits = 5\n",
    "    hl_scaling = 2\n",
    "    input_layer = np.shape(x_train_c)[1]\n",
    "    output_layer = 1\n",
    "    middle_hidden_layer = round((np.shape(x_train_c)[0])/(hl_scaling*(np.shape(x_train_c)[1]+output_layer)))\n",
    "    #middle_hidden_layer_2 = round(middle_hidden_layer/2)  # optional - place between middle_hidden_layer and output_layer below\n",
    "    \n",
    "    # Defining the number of neurons in the hidden layer using formula:\n",
    "    # Nh=Ns(α∗(Ni+No))\n",
    "    # derived from this guide on preventing overfitting http://hagan.okstate.edu/NNDesign.pdf#page=469 \n",
    "    # Also see:\n",
    "    # https://stats.stackexchange.com/questions/181/how-to-choose-the-number-of-hidden-layers-and-nodes-in-a-feedforward-neural-netw/1097#1097\n",
    "    \n",
    "    clf = MLPRegressor( hidden_layer_sizes=(input_layer,middle_hidden_layer, output_layer),  activation='identity',\n",
    "                       solver='adam', alpha=0.001, batch_size='auto', learning_rate='adaptive', learning_rate_init=0.0001,\n",
    "                       power_t=0.5, max_iter=1000, shuffle=True, random_state=9, tol=0.0001, verbose=False, warm_start=False,\n",
    "                       momentum=0.9, nesterovs_momentum=True, early_stopping=False, validation_fraction=0.2, beta_1=0.9, beta_2=0.99, epsilon=1e-08)\n",
    "    \n",
    "    # Set the parameters of the neural network\n",
    "    # default parameters used unless stated above in clf\n",
    "    # see https://scikit-learn.org/stable/modules/generated/sklearn.neural_network.MLPRegressor.html\n",
    "    param_grid = {}\n",
    "    \n",
    "    dnn_grid = GridSearchCV(estimator=clf, param_grid=param_grid, n_jobs=-1, iid=True, refit=True,\n",
    "                            cv=cv_splits, scoring='neg_mean_absolute_error', verbose = 5)\n",
    "\n",
    "    dnn_fit = dnn_grid.fit(x_train_c, y_train)\n",
    "    \n",
    "    #dnn_grid.fit(x_train_c, y_train)\n",
    "\n",
    "    # Printing the best parameters of the model\n",
    "\n",
    "    # Predicting the data using the test data\n",
    "    dnn_predict = dnn_fit.predict(x_test_c)\n",
    "    MAP_error = mean_absolute_percentage_error(y_test, dnn_predict)\n",
    "\n",
    "    # Printing the back-tested scores to estimate the quality of the model on unseen data.\n",
    "    print('r2_score:', r2_score(y_test, dnn_predict), '\\n',\n",
    "          'mean_squared_error', mean_squared_error(y_test, dnn_predict), '\\n',\n",
    "          'mean_absolute_percentage_error', mean_absolute_percentage_error(y_test, dnn_predict), '\\n')\n",
    "\n",
    "    print('\\n')\n",
    "\n",
    "    def metric_model_plot_dnn(y_test_c_f, dnn_predict_f):\n",
    "\n",
    "        max_x = max(dnn_predict_f)\n",
    "        min_x = min(dnn_predict_f)\n",
    "        plt.figure()\n",
    "        plt.scatter(y_test_c_f, dnn_predict_f, c=\"darkorange\", label=\"data\")\n",
    "        plt.plot([min_x, max_x], [min_x, max_x], 'k--')\n",
    "        plt.xlabel(\"Actual values\")\n",
    "        plt.ylabel(\"Predicted values\")\n",
    "        plt.title(\"Decision Tree\")\n",
    "        plt.legend()\n",
    "        #plt.savefig('fig_svm.png')\n",
    "        plt.show()\n",
    "        return None\n",
    "        \n",
    "        plt.figure()\n",
    "        plt.plot(y_test_c_f)\n",
    "        plt.plot(dnn_predict_f)\n",
    "        plt.show()\n",
    "        \n",
    "\n",
    "        plt.figure()\n",
    "        plt.plot(dnn_predict_f, label = 'Predicted')\n",
    "        plt.plot(y_test.reset_index(drop=True), label = 'Actual')\n",
    "        plt.legend()\n",
    "        MAP_error = mean_absolute_percentage_error(y_test, dnn_predict_f)\n",
    "        print('\\n',\n",
    "        'mean_absolute_percentage_error', MAP_error, '\\n')\n",
    "\n",
    "    metric_model_plot_dnn(y_test, dnn_predict)\n",
    "    return dnn_fit, MAP_error\n"
   ]
  },
  {
   "cell_type": "markdown",
   "metadata": {},
   "source": [
    "# Train and Run Deep Neural Network Model"
   ]
  },
  {
   "cell_type": "code",
   "execution_count": 21,
   "metadata": {},
   "outputs": [
    {
     "name": "stdout",
     "output_type": "stream",
     "text": [
      "Fitting 5 folds for each of 1 candidates, totalling 5 fits\n"
     ]
    },
    {
     "name": "stderr",
     "output_type": "stream",
     "text": [
      "[Parallel(n_jobs=-1)]: Using backend LokyBackend with 4 concurrent workers.\n",
      "[Parallel(n_jobs=-1)]: Done   2 out of   5 | elapsed:   37.4s remaining:   56.1s\n",
      "[Parallel(n_jobs=-1)]: Done   5 out of   5 | elapsed:   58.3s finished\n"
     ]
    },
    {
     "name": "stdout",
     "output_type": "stream",
     "text": [
      "r2_score: 0.6512083409739473 \n",
      " mean_squared_error 15.955211357623151 \n",
      " mean_absolute_percentage_error 5.170477460918362 \n",
      "\n",
      "\n",
      "\n"
     ]
    },
    {
     "data": {
      "image/png": "[encoded data removed]",
      "text/plain": [
       "<Figure size 432x288 with 1 Axes>"
      ]
     },
     "metadata": {
      "needs_background": "light"
     },
     "output_type": "display_data"
    }
   ],
   "source": [
    "#train and cross-validate model\n",
    "model_dl, MAP_error_dl = dnn_prediction([x_train_c, y_train, x_test_c, y_test])"
   ]
  },
  {
   "cell_type": "markdown",
   "metadata": {},
   "source": [
    "# Deep Learning Forecast\n"
   ]
  },
  {
   "cell_type": "code",
   "execution_count": 22,
   "metadata": {},
   "outputs": [],
   "source": [
    "dnn_prediction = list(model_dl.predict(x_pred_c))"
   ]
  },
  {
   "cell_type": "markdown",
   "metadata": {},
   "source": [
    "# Choose and best prediction and save to xls"
   ]
  },
  {
   "cell_type": "code",
   "execution_count": 23,
   "metadata": {},
   "outputs": [
    {
     "ename": "NameError",
     "evalue": "name 'xgb_prediction' is not defined",
     "output_type": "error",
     "traceback": [
      "\u001b[1;31m---------------------------------------------------------------------------\u001b[0m",
      "\u001b[1;31mNameError\u001b[0m                                 Traceback (most recent call last)",
      "\u001b[1;32m<ipython-input-23-2972f962a662>\u001b[0m in \u001b[0;36m<module>\u001b[1;34m\u001b[0m\n\u001b[0;32m      4\u001b[0m \u001b[0mminIndex\u001b[0m \u001b[1;33m=\u001b[0m \u001b[0mmodels_list\u001b[0m\u001b[1;33m.\u001b[0m\u001b[0mindex\u001b[0m\u001b[1;33m(\u001b[0m\u001b[0mmin\u001b[0m\u001b[1;33m(\u001b[0m\u001b[0mmodels_list\u001b[0m\u001b[1;33m)\u001b[0m\u001b[1;33m)\u001b[0m\u001b[1;33m\u001b[0m\u001b[0m\n\u001b[0;32m      5\u001b[0m \u001b[1;33m\u001b[0m\u001b[0m\n\u001b[1;32m----> 6\u001b[1;33m models_output = np.array([xgb_prediction, \n\u001b[0m\u001b[0;32m      7\u001b[0m                           dnn_prediction])\n\u001b[0;32m      8\u001b[0m \u001b[1;33m\u001b[0m\u001b[0m\n",
      "\u001b[1;31mNameError\u001b[0m: name 'xgb_prediction' is not defined"
     ]
    }
   ],
   "source": [
    "model_1_map = MAP_error_rf\n",
    "model_2_map = MAP_error_dl\n",
    "models_list = [model_1_map, model_2_map]\n",
    "minIndex = models_list.index(min(models_list))\n",
    "\n",
    "models_output = np.array([xgb_prediction, \n",
    "                          dnn_prediction])\n",
    "\n",
    "import csv\n",
    "\n",
    "hour_column = pd.DataFrame(list(range(1,25)), columns = ['Hour'])\n",
    "\n",
    "csvfile_0 = pd.DataFrame(list(models_output[minIndex,:]), columns = ['Best'])\n",
    "\n",
    "csvfile_1 = pd.DataFrame(rf_prediction, columns = ['RF'])\n",
    "\n",
    "csvfile_2 = pd.DataFrame(dnn_prediction, columns = ['DNN'])\n",
    "\n",
    "\n",
    "cvfileall = pd.concat([hour_column, csvfile_0, csvfile_1, csvfile_2], axis = 1)\n",
    "\n",
    "prediction_date = pred_date_END+timedelta(1)\n",
    "prediction_date = prediction_date.strftime('%Y-%m-%d')\n",
    "\n",
    "cvfileall.to_excel('forecast_'+prediction_date+'.xlsx', sheet_name='sheet1', index=False)"
   ]
  }
 ],
 "metadata": {
  "kernelspec": {
   "display_name": "Python 3",
   "language": "python",
   "name": "python3"
  },
  "language_info": {
   "codemirror_mode": {
    "name": "ipython",
    "version": 3
   },
   "file_extension": ".py",
   "mimetype": "text/x-python",
   "name": "python",
   "nbconvert_exporter": "python",
   "pygments_lexer": "ipython3",
   "version": "3.5.6"
  }
 },
 "nbformat": 4,
 "nbformat_minor": 2
}
